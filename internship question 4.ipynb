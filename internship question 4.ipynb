{
 "cells": [
  {
   "cell_type": "code",
   "execution_count": 49,
   "id": "f1dc6ffd-6137-4e87-905d-bfcca98d8192",
   "metadata": {},
   "outputs": [],
   "source": [
    "import numpy as np\n",
    "import pandas as pd\n",
    "import chardet\n",
    "import matplotlib.pyplot as plt\n",
    "import seaborn as sns\n",
    "import nltk\n",
    "from nltk.corpus import stopwords\n",
    "from nltk.stem.porter import PorterStemmer\n",
    "from sklearn.feature_extraction.text import TfidfVectorizer\n",
    "from sklearn.model_selection import train_test_split\n",
    "from sklearn.naive_bayes import GaussianNB, MultinomialNB, BernoulliNB\n",
    "from sklearn.metrics import accuracy_score, confusion_matrix, precision_score\n",
    "from sklearn.linear_model import LogisticRegression\n",
    "from sklearn.svm import SVC\n",
    "from sklearn.tree import DecisionTreeClassifier\n",
    "from sklearn.neighbors import KNeighborsClassifier\n",
    "from sklearn.ensemble import RandomForestClassifier, AdaBoostClassifier, BaggingClassifier, ExtraTreesClassifier, GradientBoostingClassifier, VotingClassifier, StackingClassifier\n"
   ]
  },
  {
   "cell_type": "code",
   "execution_count": 50,
   "id": "1f2930f6-9557-4db2-a876-a0801c50196f",
   "metadata": {},
   "outputs": [],
   "source": [
    "# Load and detect encoding\n",
    "with open(\"E:/New_folder/sms spam/spam.csv\", 'rb') as file:\n",
    "    result = chardet.detect(file.read())\n",
    "data_encoding = result['encoding']"
   ]
  },
  {
   "cell_type": "code",
   "execution_count": 51,
   "id": "d8600779-d7d9-449a-b7cb-b7b6aaf22508",
   "metadata": {},
   "outputs": [],
   "source": [
    "# Load the dataset with the detected encoding\n",
    "df = pd.read_csv(\"E:/New_folder/sms spam/spam.csv\", encoding=data_encoding)"
   ]
  },
  {
   "cell_type": "code",
   "execution_count": 52,
   "id": "c5a77c55-3bae-4dee-b640-c5c953ff9a1c",
   "metadata": {},
   "outputs": [],
   "source": [
    "# Data cleaning and preprocessing\n",
    "df.drop(['Unnamed: 2', 'Unnamed: 3', 'Unnamed: 4'], axis=1, inplace=True)\n",
    "df.rename(columns={'v1': 'target', 'v2': 'message'}, inplace=True)\n",
    "df['target'] = df['target'].map({'ham': 0, 'spam': 1})"
   ]
  },
  {
   "cell_type": "code",
   "execution_count": 53,
   "id": "51f426cc-8bd9-4a6e-ac7e-020ff93d8b7d",
   "metadata": {},
   "outputs": [],
   "source": [
    "# Remove duplicates\n",
    "df.drop_duplicates(inplace=True)"
   ]
  },
  {
   "cell_type": "code",
   "execution_count": 54,
   "id": "f60aaaac-fb36-4757-b6c4-051596cbf8fe",
   "metadata": {},
   "outputs": [
    {
     "data": {
      "image/png": "[encoded data removed]",
      "text/plain": [
       "<Figure size 600x600 with 1 Axes>"
      ]
     },
     "metadata": {},
     "output_type": "display_data"
    }
   ],
   "source": [
    "# Visualize class distribution\n",
    "class_counts = df['target'].value_counts()\n",
    "plt.figure(figsize=(6, 6))\n",
    "plt.pie(class_counts, labels=['Ham', 'Spam'], autopct='%1.2f%%', startangle=140, colors=['lightblue', 'orange'])\n",
    "plt.title('Distribution of Spam and Ham Messages')\n",
    "plt.show()"
   ]
  },
  {
   "cell_type": "code",
   "execution_count": 55,
   "id": "c1815138-aebb-4d17-83fa-e09bc03b4140",
   "metadata": {},
   "outputs": [
    {
     "name": "stderr",
     "output_type": "stream",
     "text": [
      "[nltk_data] Downloading package punkt to\n",
      "[nltk_data]     C:\\Users\\Padma\\AppData\\Roaming\\nltk_data...\n",
      "[nltk_data]   Package punkt is already up-to-date!\n",
      "[nltk_data] Downloading package stopwords to\n",
      "[nltk_data]     C:\\Users\\Padma\\AppData\\Roaming\\nltk_data...\n",
      "[nltk_data]   Package stopwords is already up-to-date!\n"
     ]
    },
    {
     "data": {
      "text/plain": [
       "True"
      ]
     },
     "execution_count": 55,
     "metadata": {},
     "output_type": "execute_result"
    }
   ],
   "source": [
    "# Download necessary NLTK resources\n",
    "nltk.download('punkt')\n",
    "nltk.download('stopwords')"
   ]
  },
  {
   "cell_type": "code",
   "execution_count": 56,
   "id": "9a6171f1-635d-434e-998a-905b2fc40e81",
   "metadata": {},
   "outputs": [],
   "source": [
    "# Feature engineering: number of characters, words, and sentences\n",
    "df['char_count'] = df['message'].apply(len)\n",
    "df['word_count'] = df['message'].apply(lambda x: len(nltk.word_tokenize(x)))\n",
    "df['sentence_count'] = df['message'].apply(lambda x: len(nltk.sent_tokenize(x)))\n"
   ]
  },
  {
   "cell_type": "code",
   "execution_count": 57,
   "id": "e9581611-60ab-465b-9d02-f12a93e812e1",
   "metadata": {},
   "outputs": [
    {
     "name": "stdout",
     "output_type": "stream",
     "text": [
      "       char_count                                                           \\\n",
      "            count        mean        std   min    25%    50%    75%    max   \n",
      "target                                                                       \n",
      "0          4516.0   70.459256  56.358207   2.0   34.0   52.0   90.0  910.0   \n",
      "1           653.0  137.891271  30.137753  13.0  132.0  149.0  157.0  224.0   \n",
      "\n",
      "       word_count             ...              sentence_count            \\\n",
      "            count       mean  ...   75%    max          count      mean   \n",
      "target                        ...                                         \n",
      "0          4516.0  17.123782  ...  22.0  220.0         4516.0  1.820195   \n",
      "1           653.0  27.667688  ...  32.0   46.0          653.0  2.970904   \n",
      "\n",
      "                                            \n",
      "             std  min  25%  50%  75%   max  \n",
      "target                                      \n",
      "0       1.383657  1.0  1.0  1.0  2.0  38.0  \n",
      "1       1.488425  1.0  2.0  3.0  4.0   9.0  \n",
      "\n",
      "[2 rows x 24 columns]\n"
     ]
    }
   ],
   "source": [
    "# Descriptive statistics for ham and spam messages\n",
    "print(df.groupby('target')[['char_count', 'word_count', 'sentence_count']].describe())\n"
   ]
  },
  {
   "cell_type": "code",
   "execution_count": 58,
   "id": "57e8bfa7-a82f-4dad-b4f6-b5497afaefed",
   "metadata": {},
   "outputs": [
    {
     "data": {
      "image/png": "[encoded data removed]",
      "text/plain": [
       "<Figure size 1200x600 with 1 Axes>"
      ]
     },
     "metadata": {},
     "output_type": "display_data"
    }
   ],
   "source": [
    "# Visualize distributions of features\n",
    "plt.figure(figsize=(12, 6))\n",
    "sns.histplot(data=df, x='char_count', hue='target', multiple='stack', palette=['lightblue', 'orange'])\n",
    "plt.title('Character Count Distribution')\n",
    "plt.show()"
   ]
  },
  {
   "cell_type": "code",
   "execution_count": 59,
   "id": "774b03c3-5205-4f09-adea-57399febf621",
   "metadata": {},
   "outputs": [
    {
     "data": {
      "image/png": "[encoded data removed]",
      "text/plain": [
       "<Figure size 1200x600 with 1 Axes>"
      ]
     },
     "metadata": {},
     "output_type": "display_data"
    }
   ],
   "source": [
    "plt.figure(figsize=(12, 6))\n",
    "sns.histplot(data=df, x='word_count', hue='target', multiple='stack', palette=['lightblue', 'orange'])\n",
    "plt.title('Word Count Distribution')\n",
    "plt.show()"
   ]
  },
  {
   "cell_type": "code",
   "execution_count": 60,
   "id": "5ceba6ee-17d7-47eb-9f2b-522edef11da5",
   "metadata": {},
   "outputs": [],
   "source": [
    "# Text preprocessing function\n",
    "def preprocess_text(text):\n",
    "    # Convert text to lowercase\n",
    "    text = text.lower()\n",
    "    # Tokenize text\n",
    "    tokens = nltk.word_tokenize(text)\n",
    "    # Remove non-alphanumeric tokens\n",
    "    tokens = [word for word in tokens if word.isalnum()]\n",
    "    # Remove stopwords and punctuation\n",
    "    tokens = [word for word in tokens if word not in stopwords.words('english')]\n",
    "    # Apply stemming\n",
    "    stemmer = PorterStemmer()\n",
    "    tokens = [stemmer.stem(word) for word in tokens]\n",
    "    return ' '.join(tokens)"
   ]
  },
  {
   "cell_type": "code",
   "execution_count": 61,
   "id": "f26fb915-f8da-4dd3-b5b4-5cc3ddc45bde",
   "metadata": {},
   "outputs": [],
   "source": [
    "# Apply text preprocessing\n",
    "df['processed_message'] = df['message'].apply(preprocess_text)"
   ]
  },
  {
   "cell_type": "code",
   "execution_count": 62,
   "id": "de234416-1fa7-4268-9685-267c8b193ad4",
   "metadata": {},
   "outputs": [],
   "source": [
    "# TF-IDF vectorization\n",
    "tfidf = TfidfVectorizer(max_features=3000)\n",
    "X = tfidf.fit_transform(df['processed_message']).toarray()\n",
    "y = df['target']\n"
   ]
  },
  {
   "cell_type": "code",
   "execution_count": 63,
   "id": "89cd609d-50e6-4ffa-82b3-40a528c0af9d",
   "metadata": {},
   "outputs": [],
   "source": [
    "# Train-test split\n",
    "X_train, X_test, y_train, y_test = train_test_split(X, y, test_size=0.2, random_state=2)\n"
   ]
  },
  {
   "cell_type": "code",
   "execution_count": 64,
   "id": "bdc77a4d-9bbf-4e54-854e-9a760927df22",
   "metadata": {},
   "outputs": [],
   "source": [
    "# Function to train and evaluate a classifier\n",
    "def evaluate_classifier(model, X_train, y_train, X_test, y_test):\n",
    "    model.fit(X_train, y_train)\n",
    "    y_pred = model.predict(X_test)\n",
    "    acc = accuracy_score(y_test, y_pred)\n",
    "    prec = precision_score(y_test, y_pred)\n",
    "    print(f\"Accuracy: {acc:.4f}\")\n",
    "    print(f\"Precision: {prec:.4f}\")\n",
    "    print(\"Confusion Matrix:\")\n",
    "    print(confusion_matrix(y_test, y_pred))\n",
    "    print(\"\")"
   ]
  },
  {
   "cell_type": "code",
   "execution_count": 65,
   "id": "193666bc-8a35-4fd0-8fe5-4c39c1cf787f",
   "metadata": {},
   "outputs": [
    {
     "name": "stdout",
     "output_type": "stream",
     "text": [
      "Gaussian Naive Bayes:\n",
      "Accuracy: 0.8694\n",
      "Precision: 0.5068\n",
      "Confusion Matrix:\n",
      "[[788 108]\n",
      " [ 27 111]]\n",
      "\n"
     ]
    }
   ],
   "source": [
    "# Naive Bayes classifiers\n",
    "print(\"Gaussian Naive Bayes:\")\n",
    "evaluate_classifier(GaussianNB(), X_train, y_train, X_test, y_test)"
   ]
  },
  {
   "cell_type": "code",
   "execution_count": 66,
   "id": "9abb0b45-9f79-40aa-9bee-a7a87aa42ad2",
   "metadata": {},
   "outputs": [
    {
     "name": "stdout",
     "output_type": "stream",
     "text": [
      "Multinomial Naive Bayes:\n",
      "Accuracy: 0.9710\n",
      "Precision: 1.0000\n",
      "Confusion Matrix:\n",
      "[[896   0]\n",
      " [ 30 108]]\n",
      "\n"
     ]
    }
   ],
   "source": [
    "print(\"Multinomial Naive Bayes:\")\n",
    "evaluate_classifier(MultinomialNB(), X_train, y_train, X_test, y_test)"
   ]
  },
  {
   "cell_type": "code",
   "execution_count": 67,
   "id": "4dcbb23f-5303-4f32-ac45-13ec85a83bc3",
   "metadata": {},
   "outputs": [
    {
     "name": "stdout",
     "output_type": "stream",
     "text": [
      "Bernoulli Naive Bayes:\n",
      "Accuracy: 0.9836\n",
      "Precision: 0.9919\n",
      "Confusion Matrix:\n",
      "[[895   1]\n",
      " [ 16 122]]\n",
      "\n"
     ]
    }
   ],
   "source": [
    "print(\"Bernoulli Naive Bayes:\")\n",
    "evaluate_classifier(BernoulliNB(), X_train, y_train, X_test, y_test)"
   ]
  },
  {
   "cell_type": "code",
   "execution_count": 68,
   "id": "c5b8416a-03fd-456d-990c-f375fae0628d",
   "metadata": {},
   "outputs": [],
   "source": [
    "# Other classifiers\n",
    "models = {\n",
    "    'SVC': SVC(kernel='sigmoid', gamma=1.0, probability=True),\n",
    "    'Logistic Regression': LogisticRegression(solver='liblinear', penalty='l1'),\n",
    "    'K-Nearest Neighbors': KNeighborsClassifier(),\n",
    "    'Decision Tree': DecisionTreeClassifier(max_depth=5),\n",
    "    'Random Forest': RandomForestClassifier(n_estimators=50, random_state=2),\n",
    "    'AdaBoost': AdaBoostClassifier(n_estimators=50, random_state=2),\n",
    "    'Bagging': BaggingClassifier(n_estimators=50, random_state=2),\n",
    "    'Extra Trees': ExtraTreesClassifier(n_estimators=50, random_state=2),\n",
    "    'Gradient Boosting': GradientBoostingClassifier(n_estimators=50, random_state=2)\n",
    "}"
   ]
  },
  {
   "cell_type": "code",
   "execution_count": 69,
   "id": "ed81c9f6-a2be-44c6-8ae6-c01f7f13ceca",
   "metadata": {},
   "outputs": [
    {
     "name": "stdout",
     "output_type": "stream",
     "text": [
      "SVC\n",
      "Accuracy: 0.9758\n",
      "Precision: 0.9748\n",
      "Confusion Matrix:\n",
      "[[893   3]\n",
      " [ 22 116]]\n",
      "\n",
      "Logistic Regression\n",
      "Accuracy: 0.9584\n",
      "Precision: 0.9703\n",
      "Confusion Matrix:\n",
      "[[893   3]\n",
      " [ 40  98]]\n",
      "\n",
      "K-Nearest Neighbors\n",
      "Accuracy: 0.9052\n",
      "Precision: 1.0000\n",
      "Confusion Matrix:\n",
      "[[896   0]\n",
      " [ 98  40]]\n",
      "\n",
      "Decision Tree\n",
      "Accuracy: 0.9275\n",
      "Precision: 0.8119\n",
      "Confusion Matrix:\n",
      "[[877  19]\n",
      " [ 56  82]]\n",
      "\n",
      "Random Forest\n",
      "Accuracy: 0.9758\n",
      "Precision: 0.9829\n",
      "Confusion Matrix:\n",
      "[[894   2]\n",
      " [ 23 115]]\n",
      "\n",
      "AdaBoost\n"
     ]
    },
    {
     "name": "stderr",
     "output_type": "stream",
     "text": [
      "C:\\Users\\Padma\\anaconda3\\Lib\\site-packages\\sklearn\\ensemble\\_weight_boosting.py:519: FutureWarning: The SAMME.R algorithm (the default) is deprecated and will be removed in 1.6. Use the SAMME algorithm to circumvent this warning.\n",
      "  warnings.warn(\n"
     ]
    },
    {
     "name": "stdout",
     "output_type": "stream",
     "text": [
      "Accuracy: 0.9603\n",
      "Precision: 0.9292\n",
      "Confusion Matrix:\n",
      "[[888   8]\n",
      " [ 33 105]]\n",
      "\n",
      "Bagging\n",
      "Accuracy: 0.9584\n",
      "Precision: 0.8682\n",
      "Confusion Matrix:\n",
      "[[879  17]\n",
      " [ 26 112]]\n",
      "\n",
      "Extra Trees\n",
      "Accuracy: 0.9749\n",
      "Precision: 0.9746\n",
      "Confusion Matrix:\n",
      "[[893   3]\n",
      " [ 23 115]]\n",
      "\n",
      "Gradient Boosting\n",
      "Accuracy: 0.9468\n",
      "Precision: 0.9192\n",
      "Confusion Matrix:\n",
      "[[888   8]\n",
      " [ 47  91]]\n",
      "\n"
     ]
    }
   ],
   "source": [
    "# Evaluate each model\n",
    "for model_name, model in models.items():\n",
    "    print(model_name)\n",
    "    evaluate_classifier(model, X_train, y_train, X_test, y_test)\n"
   ]
  },
  {
   "cell_type": "code",
   "execution_count": 70,
   "id": "79d94380-730c-479d-b08b-63e0a48b0fcd",
   "metadata": {},
   "outputs": [
    {
     "name": "stdout",
     "output_type": "stream",
     "text": [
      "Voting Classifier:\n",
      "Accuracy: 0.9816\n",
      "Precision: 0.9917\n",
      "Confusion Matrix:\n",
      "[[895   1]\n",
      " [ 18 120]]\n",
      "\n"
     ]
    }
   ],
   "source": [
    "# Voting classifier\n",
    "voting_clf = VotingClassifier(estimators=[\n",
    "    ('svc', models['SVC']),\n",
    "    ('mnb', MultinomialNB()),\n",
    "    ('etc', models['Extra Trees'])\n",
    "], voting='soft')\n",
    "print(\"Voting Classifier:\")\n",
    "evaluate_classifier(voting_clf, X_train, y_train, X_test, y_test)\n"
   ]
  },
  {
   "cell_type": "code",
   "execution_count": 71,
   "id": "d71b4046-e42c-4b6e-b47c-3c39d24cbd94",
   "metadata": {},
   "outputs": [
    {
     "name": "stdout",
     "output_type": "stream",
     "text": [
      "Stacking Classifier:\n",
      "Accuracy: 0.9807\n",
      "Precision: 0.9470\n",
      "Confusion Matrix:\n",
      "[[889   7]\n",
      " [ 13 125]]\n",
      "\n"
     ]
    }
   ],
   "source": [
    "# Stacking classifier\n",
    "stacking_clf = StackingClassifier(estimators=[\n",
    "    ('svc', models['SVC']),\n",
    "    ('mnb', MultinomialNB()),\n",
    "    ('etc', models['Extra Trees'])\n",
    "], final_estimator=RandomForestClassifier())\n",
    "print(\"Stacking Classifier:\")\n",
    "evaluate_classifier(stacking_clf, X_train, y_train, X_test, y_test)"
   ]
  },
  {
   "cell_type": "code",
   "execution_count": null,
   "id": "ae492571-49ff-4074-ac69-278c40423cc7",
   "metadata": {},
   "outputs": [],
   "source": []
  },
  {
   "cell_type": "code",
   "execution_count": null,
   "id": "267c8e67-9345-4535-9913-d6934b084a72",
   "metadata": {},
   "outputs": [],
   "source": []
  },
  {
   "cell_type": "code",
   "execution_count": null,
   "id": "fa23fbbc-a155-4783-9c57-0cf465756d17",
   "metadata": {},
   "outputs": [],
   "source": []
  },
  {
   "cell_type": "code",
   "execution_count": null,
   "id": "6f728f8a-f341-4809-998f-edbf63dd9282",
   "metadata": {},
   "outputs": [],
   "source": []
  }
 ],
 "metadata": {
  "kernelspec": {
   "display_name": "Python 3 (ipykernel)",
   "language": "python",
   "name": "python3"
  },
  "language_info": {
   "codemirror_mode": {
    "name": "ipython",
    "version": 3
   },
   "file_extension": ".py",
   "mimetype": "text/x-python",
   "name": "python",
   "nbconvert_exporter": "python",
   "pygments_lexer": "ipython3",
   "version": "3.12.4"
  }
 },
 "nbformat": 4,
 "nbformat_minor": 5
}
